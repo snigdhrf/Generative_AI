{
 "cells": [
  {
   "cell_type": "markdown",
   "id": "a98030af-fcd1-4d63-a36e-38ba053498fa",
   "metadata": {
    "editable": true,
    "slideshow": {
     "slide_type": ""
    },
    "tags": []
   },
   "source": [
    "# BUSINESS CHALLENGE\n",
    "\n",
    "## Create a product that builds a Brochure for a company to be used for prospective clients, investors and potential recruits.\n",
    "\n",
    "### Inputs for our solution : company name and their primary website.\n",
    "### Output : Formatted Brochure\n"
   ]
  },
  {
   "cell_type": "code",
   "execution_count": 1,
   "id": "d5b08506-dc8b-4443-9201-5f1848161363",
   "metadata": {
    "editable": true,
    "slideshow": {
     "slide_type": ""
    },
    "tags": []
   },
   "outputs": [],
   "source": [
    "# imports\n",
    "\n",
    "import os\n",
    "import requests\n",
    "import json\n",
    "from typing import List\n",
    "from dotenv import load_dotenv\n",
    "from bs4 import BeautifulSoup\n",
    "from IPython.display import Markdown, display, update_display\n",
    "from openai import OpenAI"
   ]
  },
  {
   "cell_type": "code",
   "execution_count": 2,
   "id": "fc5d8880-f2ee-4c06-af16-ecbc0262af61",
   "metadata": {
    "editable": true,
    "slideshow": {
     "slide_type": ""
    },
    "tags": []
   },
   "outputs": [
    {
     "name": "stdout",
     "output_type": "stream",
     "text": [
      "API key looks good so far\n"
     ]
    }
   ],
   "source": [
    "# Initialize and constants\n",
    "# For this you need to set up your .env file\n",
    "\n",
    "load_dotenv()\n",
    "api_key = os.getenv('OPENAI_API_KEY')\n",
    "if api_key and api_key.startswith('sk-proj-') and len(api_key)>10:\n",
    "    print(\"API key looks good so far\")\n",
    "else:\n",
    "    print(\"There might be a problem with your API key!\")\n",
    "    \n",
    "MODEL = 'gpt-4o-mini'\n",
    "openai = OpenAI()"
   ]
  },
  {
   "cell_type": "code",
   "execution_count": 3,
   "id": "106dd65e-90af-4ca8-86b6-23a41840645b",
   "metadata": {},
   "outputs": [],
   "source": [
    "# A class to represent a Webpage\n",
    "\n",
    "class Website:\n",
    "    \"\"\"\n",
    "    A utility class to represent a Website that we want to scrape, with internal links\n",
    "    \"\"\"\n",
    "\n",
    "    def __init__(self, url):\n",
    "        self.url = url\n",
    "        response = requests.get(url)\n",
    "        self.body = response.content \n",
    "        soup = BeautifulSoup(self.body, 'html.parser') \n",
    "        self.title = soup.title.string if soup.title else \"No title found\" \n",
    "        \n",
    "        if soup.body:\n",
    "            for irrelevant in soup.body([\"script\", \"style\", \"img\", \"input\"]):\n",
    "                irrelevant.decompose() \n",
    "            self.text = soup.body.get_text(separator=\"\\n\", strip=True) \n",
    "        else:\n",
    "            self.text = \"\"\n",
    "        \n",
    "        #We want the links as well which are mentioned on the front page\n",
    "        links = [link.get('href') for link in soup.find_all('a')] \n",
    "        self.links = [link for link in links if link] \n",
    "\n",
    "    def get_contents(self):\n",
    "        return f\"Webpage Title:\\n{self.title}\\nWebpage Contents:\\n{self.text}\\n\\n\""
   ]
  },
  {
   "cell_type": "code",
   "execution_count": 4,
   "id": "e30d8128-933b-44cc-81c8-ab4c9d86589a",
   "metadata": {},
   "outputs": [
    {
     "name": "stdout",
     "output_type": "stream",
     "text": [
      "['/', '/models', '/datasets', '/spaces', '/posts', '/docs', '/enterprise', '/pricing', '/login', '/join', '/deepseek-ai/DeepSeek-V3', '/deepseek-ai/DeepSeek-V3-Base', '/PowerInfer/SmallThinker-3B-Preview', '/black-forest-labs/FLUX.1-dev', '/hexgrad/Kokoro-82M', '/models', '/spaces/JeffreyXiang/TRELLIS', '/spaces/osanseviero/gemini-coder', '/spaces/lllyasviel/iclight-v2', '/spaces/Kwai-Kolors/Kolors-Virtual-Try-On', '/spaces/Qwen/QVQ-72B-preview', '/spaces', '/datasets/agibot-world/AgiBotWorld-Alpha', '/datasets/fka/awesome-chatgpt-prompts', '/datasets/PowerInfer/QWQ-LONGCOT-500K', '/datasets/HuggingFaceTB/finemath', '/datasets/O1-OPEN/OpenO1-SFT', '/datasets', '/join', '/pricing#endpoints', '/pricing#spaces', '/pricing', '/enterprise', '/enterprise', '/enterprise', '/enterprise', '/enterprise', '/enterprise', '/enterprise', '/allenai', '/facebook', '/amazon', '/google', '/Intel', '/microsoft', '/grammarly', '/Writer', '/docs/transformers', '/docs/diffusers', '/docs/safetensors', '/docs/huggingface_hub', '/docs/tokenizers', '/docs/peft', '/docs/transformers.js', '/docs/timm', '/docs/trl', '/docs/datasets', '/docs/text-generation-inference', '/docs/accelerate', '/models', '/datasets', '/spaces', '/tasks', 'https://ui.endpoints.huggingface.co', '/chat', '/huggingface', '/brand', '/terms-of-service', '/privacy', 'https://apply.workable.com/huggingface/', 'mailto:press@huggingface.co', '/learn', '/docs', '/blog', 'https://discuss.huggingface.co', 'https://status.huggingface.co/', 'https://github.com/huggingface', 'https://twitter.com/huggingface', 'https://www.linkedin.com/company/huggingface/', '/join/discord', 'https://www.zhihu.com/org/huggingface', 'https://huggingface.co/datasets/huggingface/documentation-images/resolve/main/blog/chinese-language-blog/wechat.jpg']\n"
     ]
    }
   ],
   "source": [
    "ed = Website(\"https://huggingface.co/\")\n",
    "print (ed.links)"
   ]
  },
  {
   "cell_type": "markdown",
   "id": "1771af9c-717a-4fca-bbbe-8a95893312c3",
   "metadata": {},
   "source": [
    "## First step: Have GPT-4o-mini figure out which links are relevant\n",
    "\n",
    "### Use a call to gpt-4o-mini to read the links on a webpage, and respond in structured JSON.  \n",
    "It should decide which links are relevant, and replace relative links such as \"/about\" with \"https://company.com/about\".  \n",
    "We will use \"one shot prompting\" in which we provide an example of how it should respond in the prompt.\n",
    "\n",
    "Trying to code this without LLMs by parsing and analyzing the webpage would be hard!"
   ]
  },
  {
   "cell_type": "code",
   "execution_count": 5,
   "id": "6957b079-0d96-45f7-a26a-3487510e9b35",
   "metadata": {},
   "outputs": [],
   "source": [
    "link_system_prompt = \"You are provided with a list of links found on a webpage. \\\n",
    "You are able to decide which of the links would be most relevant to include in a brochure about the company, \\\n",
    "such as links to an About page, or a Company page, or Careers/Jobs pages.\\n\"\n",
    "link_system_prompt += \"You should respond in JSON as in this example:\"\n",
    "link_system_prompt += \"\"\"\n",
    "{\n",
    "    \"links\": [\n",
    "        {\"type\": \"about page\", \"url\": \"https://full.url/goes/here/about\"},\n",
    "        {\"type\": \"careers page\": \"url\": \"https://another.full.url/careers\"}\n",
    "    ]\n",
    "}\n",
    "\"\"\""
   ]
  },
  {
   "cell_type": "code",
   "execution_count": 6,
   "id": "b97e4068-97ed-4120-beae-c42105e4d59a",
   "metadata": {},
   "outputs": [
    {
     "name": "stdout",
     "output_type": "stream",
     "text": [
      "You are provided with a list of links found on a webpage. You are able to decide which of the links would be most relevant to include in a brochure about the company, such as links to an About page, or a Company page, or Careers/Jobs pages.\n",
      "You should respond in JSON as in this example:\n",
      "{\n",
      "    \"links\": [\n",
      "        {\"type\": \"about page\", \"url\": \"https://full.url/goes/here/about\"},\n",
      "        {\"type\": \"careers page\": \"url\": \"https://another.full.url/careers\"}\n",
      "    ]\n",
      "}\n",
      "\n"
     ]
    }
   ],
   "source": [
    "print(link_system_prompt)"
   ]
  },
  {
   "cell_type": "code",
   "execution_count": 7,
   "id": "8e1f601b-2eaf-499d-b6b8-c99050c9d6b3",
   "metadata": {},
   "outputs": [],
   "source": [
    "def get_links_user_prompt(website):\n",
    "    user_prompt = f\"Here is the list of links on the website of {website.url} - \"\n",
    "    user_prompt += \"please decide which of these are relevant web links for a brochure about the company, respond with the full https URL in JSON format. Do not include Terms of Service, Privacy, email links.\\n\"\n",
    "    user_prompt += \"Links (some might be relative links):\\n\"\n",
    "    user_prompt += \"\\n\".join(website.links)\n",
    "    return user_prompt"
   ]
  },
  {
   "cell_type": "code",
   "execution_count": 8,
   "id": "6bcbfa78-6395-4685-b92c-22d592050fd7",
   "metadata": {},
   "outputs": [
    {
     "data": {
      "text/plain": [
       "'Here is the list of links on the website of https://huggingface.co/ - please decide which of these are relevant web links for a brochure about the company, respond with the full https URL in JSON format. Do not include Terms of Service, Privacy, email links.\\nLinks (some might be relative links):\\n/\\n/models\\n/datasets\\n/spaces\\n/posts\\n/docs\\n/enterprise\\n/pricing\\n/login\\n/join\\n/deepseek-ai/DeepSeek-V3\\n/deepseek-ai/DeepSeek-V3-Base\\n/PowerInfer/SmallThinker-3B-Preview\\n/black-forest-labs/FLUX.1-dev\\n/hexgrad/Kokoro-82M\\n/models\\n/spaces/JeffreyXiang/TRELLIS\\n/spaces/osanseviero/gemini-coder\\n/spaces/lllyasviel/iclight-v2\\n/spaces/Kwai-Kolors/Kolors-Virtual-Try-On\\n/spaces/Qwen/QVQ-72B-preview\\n/spaces\\n/datasets/agibot-world/AgiBotWorld-Alpha\\n/datasets/fka/awesome-chatgpt-prompts\\n/datasets/PowerInfer/QWQ-LONGCOT-500K\\n/datasets/HuggingFaceTB/finemath\\n/datasets/O1-OPEN/OpenO1-SFT\\n/datasets\\n/join\\n/pricing#endpoints\\n/pricing#spaces\\n/pricing\\n/enterprise\\n/enterprise\\n/enterprise\\n/enterprise\\n/enterprise\\n/enterprise\\n/enterprise\\n/allenai\\n/facebook\\n/amazon\\n/google\\n/Intel\\n/microsoft\\n/grammarly\\n/Writer\\n/docs/transformers\\n/docs/diffusers\\n/docs/safetensors\\n/docs/huggingface_hub\\n/docs/tokenizers\\n/docs/peft\\n/docs/transformers.js\\n/docs/timm\\n/docs/trl\\n/docs/datasets\\n/docs/text-generation-inference\\n/docs/accelerate\\n/models\\n/datasets\\n/spaces\\n/tasks\\nhttps://ui.endpoints.huggingface.co\\n/chat\\n/huggingface\\n/brand\\n/terms-of-service\\n/privacy\\nhttps://apply.workable.com/huggingface/\\nmailto:press@huggingface.co\\n/learn\\n/docs\\n/blog\\nhttps://discuss.huggingface.co\\nhttps://status.huggingface.co/\\nhttps://github.com/huggingface\\nhttps://twitter.com/huggingface\\nhttps://www.linkedin.com/company/huggingface/\\n/join/discord\\nhttps://www.zhihu.com/org/huggingface\\nhttps://huggingface.co/datasets/huggingface/documentation-images/resolve/main/blog/chinese-language-blog/wechat.jpg'"
      ]
     },
     "execution_count": 8,
     "metadata": {},
     "output_type": "execute_result"
    }
   ],
   "source": [
    "get_links_user_prompt(ed)"
   ]
  },
  {
   "cell_type": "markdown",
   "id": "1820c5e8-1705-42e2-8113-1d5391de32f3",
   "metadata": {},
   "source": [
    "### Using OpenAI GPT-4o-mini"
   ]
  },
  {
   "cell_type": "code",
   "execution_count": 9,
   "id": "a29aca19-ca13-471c-a4b4-5abbfa813f69",
   "metadata": {
    "editable": true,
    "slideshow": {
     "slide_type": ""
    },
    "tags": []
   },
   "outputs": [],
   "source": [
    "def get_links(url):\n",
    "    website = Website(url)\n",
    "    response = openai.chat.completions.create(\n",
    "        model=MODEL,\n",
    "        messages=[\n",
    "            {\"role\": \"system\", \"content\": link_system_prompt},\n",
    "            {\"role\": \"user\", \"content\": get_links_user_prompt(website)}\n",
    "      ],\n",
    "        response_format={\"type\": \"json_object\"}\n",
    "    )\n",
    "    result = response.choices[0].message.content\n",
    "    return json.loads(result)"
   ]
  },
  {
   "cell_type": "code",
   "execution_count": 10,
   "id": "96cdb352-ef25-4e31-ad96-8008be9e7562",
   "metadata": {},
   "outputs": [
    {
     "data": {
      "text/plain": [
       "{'links': [{'type': 'about page', 'url': 'https://huggingface.co/huggingface'},\n",
       "  {'type': 'careers page', 'url': 'https://apply.workable.com/huggingface/'},\n",
       "  {'type': 'enterprise page', 'url': 'https://huggingface.co/enterprise'},\n",
       "  {'type': 'pricing page', 'url': 'https://huggingface.co/pricing'},\n",
       "  {'type': 'blog page', 'url': 'https://huggingface.co/blog'},\n",
       "  {'type': 'discussion forum', 'url': 'https://discuss.huggingface.co'},\n",
       "  {'type': 'GitHub page', 'url': 'https://github.com/huggingface'},\n",
       "  {'type': 'Twitter page', 'url': 'https://twitter.com/huggingface'},\n",
       "  {'type': 'LinkedIn page',\n",
       "   'url': 'https://www.linkedin.com/company/huggingface/'}]}"
      ]
     },
     "execution_count": 10,
     "metadata": {},
     "output_type": "execute_result"
    }
   ],
   "source": [
    "get_links(\"https://huggingface.co/\")"
   ]
  },
  {
   "cell_type": "markdown",
   "id": "0d74128e-dfb6-47ec-9549-288b621c838c",
   "metadata": {},
   "source": [
    "## Second step: Making the brochure!\n",
    "\n",
    "Assemble all the details into another prompt to GPT4-o"
   ]
  },
  {
   "cell_type": "code",
   "execution_count": 11,
   "id": "85a5b6e2-e7ef-44a9-bc7f-59ede71037b5",
   "metadata": {},
   "outputs": [],
   "source": [
    "def get_all_details(url):\n",
    "    result = \"Landing page:\\n\"\n",
    "    result += Website(url).get_contents()\n",
    "    links = get_links(url) # All the associated links on the website in JSON format, calling API here\n",
    "    for link in links[\"links\"]:\n",
    "        result += f\"\\n\\n{link['type']}\\n\"\n",
    "        result += Website(link[\"url\"]).get_contents() \n",
    "        ## Getting contents from all the useful links, after filtering from LLM\n",
    "    return result"
   ]
  },
  {
   "cell_type": "code",
   "execution_count": 12,
   "id": "5099bd14-076d-4745-baf3-dac08d8e5ab2",
   "metadata": {
    "scrolled": true
   },
   "outputs": [],
   "source": [
    "# get_all_details(\"https://huggingface.co/\")"
   ]
  },
  {
   "cell_type": "code",
   "execution_count": 13,
   "id": "9b863a55-f86c-4e3f-8a79-94e24c1a8cf2",
   "metadata": {
    "editable": true,
    "slideshow": {
     "slide_type": ""
    },
    "tags": []
   },
   "outputs": [],
   "source": [
    "system_prompt = \"You are an assistant that analyzes the contents of several relevant pages from a company website \\\n",
    "and creates a short brochure about the company for prospective customers, investors and recruits. Respond in markdown.\\\n",
    "Include details of company culture, customers and careers/jobs if you have the information.\"\n",
    "\n",
    "# Or uncomment the lines below for a more humorous brochure - this demonstrates how easy it is to incorporate 'tone':\n",
    "\n",
    "# system_prompt = \"You are an assistant that analyzes the contents of several relevant pages from a company website \\\n",
    "# and creates a short humorous, entertaining, jokey brochure about the company for prospective customers, investors and recruits. Respond in markdown.\\\n",
    "# Include details of company culture, customers and careers/jobs if you have the information.\"\n"
   ]
  },
  {
   "cell_type": "code",
   "execution_count": 14,
   "id": "6ab83d92-d36b-4ce0-8bcc-5bb4c2f8ff23",
   "metadata": {
    "editable": true,
    "slideshow": {
     "slide_type": ""
    },
    "tags": []
   },
   "outputs": [],
   "source": [
    "def get_brochure_user_prompt(company_name, url):\n",
    "    user_prompt = f\"You are looking at a company called: {company_name}\\n\"\n",
    "    user_prompt += f\"Here are the contents of its landing page and other relevant pages; use this information to build a short brochure of the company in markdown.\\n\"\n",
    "    user_prompt += get_all_details(url)\n",
    "    user_prompt = user_prompt[:20_000] # Truncate if more than 20,000 characters\n",
    "    return user_prompt"
   ]
  },
  {
   "cell_type": "code",
   "execution_count": 15,
   "id": "cd909e0b-1312-4ce2-a553-821e795d7572",
   "metadata": {
    "scrolled": true
   },
   "outputs": [],
   "source": [
    "# get_brochure_user_prompt(\"HuggingFace\", \"https://huggingface.co/\")"
   ]
  },
  {
   "cell_type": "code",
   "execution_count": 16,
   "id": "e44de579-4a1a-4e6a-a510-20ea3e4b8d46",
   "metadata": {},
   "outputs": [],
   "source": [
    "def create_brochure(company_name, url):\n",
    "    response = openai.chat.completions.create(\n",
    "        model=MODEL,\n",
    "        messages=[\n",
    "            {\"role\": \"system\", \"content\": system_prompt},\n",
    "            {\"role\": \"user\", \"content\": get_brochure_user_prompt(company_name, url)}\n",
    "          ],\n",
    "    )\n",
    "    result = response.choices[0].message.content\n",
    "    display(Markdown(result))"
   ]
  },
  {
   "cell_type": "code",
   "execution_count": 17,
   "id": "e093444a-9407-42ae-924a-145730591a39",
   "metadata": {},
   "outputs": [
    {
     "data": {
      "text/markdown": [
       "# Hugging Face Company Brochure\n",
       "\n",
       "## Welcome to Hugging Face! \n",
       "The AI community building the future. Hugging Face is a collaborative platform where the machine learning (ML) community can join forces to create, share, and develop models, datasets, and applications. With a goal to democratize machine learning, Hugging Face isn’t just a company — it's a movement.\n",
       "\n",
       "---\n",
       "\n",
       "## Company Overview\n",
       "Hugging Face offers a range of powerful tools and services including:\n",
       "- **Models**: Access to over 400k models, including state-of-the-art transformers and diffusion models.\n",
       "- **Datasets**: A growing collection of 100k+ datasets for various ML tasks.\n",
       "- **Spaces**: A space to run applications and showcase ML projects.\n",
       "- **Enterprise Solutions**: Tailored services for organizations looking to implement cutting-edge AI with enterprise-grade security (For more, see our [Enterprise Hub](https://huggingface.co/about)).\n",
       "\n",
       "The company is home to a vibrant community of over 50,000 organizations, including notable names like Google, Microsoft, and Amazon, all leveraging the Hugging Face platform to advance their AI capabilities.\n",
       "\n",
       "---\n",
       "\n",
       "## Company Culture\n",
       "At Hugging Face, we are on a mission to democratize good machine learning, one commit at a time. We are a diverse and inclusive team that values collaboration, innovation, and community contributions. Our culture encourages open communication and knowledge-sharing where everyone has a voice.\n",
       "\n",
       "Join our community on platforms such as [GitHub](https://github.com/huggingface), [Discord](https://discord.gg/huggingface), and [Twitter](https://twitter.com/huggingface) to get involved!\n",
       "\n",
       "---\n",
       "\n",
       "## Careers at Hugging Face\n",
       "Hugging Face is always looking for talented individuals to join our team. Whether you are an engineer, researcher, or a marketing professional, if you believe in the power of open-source and community-driven ML, we want to hear from you. Check our current job openings [here](https://huggingface.co/join-us).\n",
       "\n",
       "---\n",
       "\n",
       "## Why Choose Hugging Face?\n",
       "- **Open Source Commitment**: Hugging Face has a strong commitment to open-source principles, making powerful ML tools accessible to everyone.\n",
       "- **Fast Deployment**: With optimized inference endpoints and various compute options, you can smoothly deploy your ML models.\n",
       "- **Learning and Growth**: Join our community to learn, share, and grow in the field of machine learning.\n",
       "- **Enterprise Readiness**: With advanced security features and dedicated support, our enterprise offerings make Hugging Face the right choice for organizations looking to lead in AI.\n",
       "\n",
       "---\n",
       "\n",
       "## Join Us!\n",
       "Ready to shape the future of AI with Hugging Face? Sign up for free and start creating, collaborating, and exploring our extensive resources. Together, we can unlock the potential of machine learning for everyone!\n",
       "\n",
       "[**Sign Up**](https://huggingface.co/join)\n",
       "\n",
       "For more information, visit our website: [Hugging Face](https://huggingface.co)\n",
       "\n",
       "--- \n",
       "\n",
       "Thank you for considering Hugging Face! Let’s build the future of AI together."
      ],
      "text/plain": [
       "<IPython.core.display.Markdown object>"
      ]
     },
     "metadata": {},
     "output_type": "display_data"
    }
   ],
   "source": [
    "create_brochure(\"HuggingFace\", \"https://huggingface.co/\")"
   ]
  },
  {
   "cell_type": "markdown",
   "id": "61eaaab7-0b47-4b29-82d4-75d474ad8d18",
   "metadata": {
    "editable": true,
    "slideshow": {
     "slide_type": ""
    },
    "tags": []
   },
   "source": [
    "## Finally - a minor improvement\n",
    "\n",
    "With a small adjustment, we can change this so that the results stream back from OpenAI,\n",
    "with the familiar typewriter animation"
   ]
  },
  {
   "cell_type": "code",
   "execution_count": 18,
   "id": "51db0e49-f261-4137-aabe-92dd601f7725",
   "metadata": {},
   "outputs": [],
   "source": [
    "def stream_brochure(company_name, url):\n",
    "    stream = openai.chat.completions.create(\n",
    "        model=MODEL,\n",
    "        messages=[\n",
    "            {\"role\": \"system\", \"content\": system_prompt},\n",
    "            {\"role\": \"user\", \"content\": get_brochure_user_prompt(company_name, url)}\n",
    "          ],\n",
    "        stream=True\n",
    "    )\n",
    "    \n",
    "    response = \"\"\n",
    "    display_handle = display(Markdown(\"\"), display_id=True)\n",
    "    for chunk in stream:\n",
    "        response += chunk.choices[0].delta.content or ''\n",
    "        response = response.replace(\"```\",\"\").replace(\"markdown\", \"\")\n",
    "        update_display(Markdown(response), display_id=display_handle.display_id)"
   ]
  },
  {
   "cell_type": "code",
   "execution_count": 19,
   "id": "fdb3f8d8-a3eb-41c8-b1aa-9f60686a653b",
   "metadata": {},
   "outputs": [
    {
     "data": {
      "text/markdown": [
       "# Hugging Face Brochure\n",
       "\n",
       "## The Company\n",
       "\n",
       "**Hugging Face** is at the forefront of the artificial intelligence revolution, serving as a collaborative community where machine learning enthusiasts come together to build models, datasets, and innovative applications. By providing a platform that fosters collaboration, Hugging Face helps shape the future of AI.\n",
       "\n",
       "- **Website:** [Hugging Face](https://huggingface.co)\n",
       "- **Motto:** \"The AI community building the future.\"\n",
       "\n",
       "## Services Offered\n",
       "- **Models:** Access to over 400,000 machine learning models.\n",
       "- **Datasets:** An extensive library of over 100,000 datasets for various ML tasks.\n",
       "- **Spaces:** A section dedicated to creating and sharing ML applications.\n",
       "- **Enterprise Solutions:** Robust tools for businesses, including security features and dedicated support.\n",
       "\n",
       "## Customer Base\n",
       "More than **50,000 organizations** utilize Hugging Face's services, including high-profile companies such as:\n",
       "- **Google**\n",
       "- **Microsoft**\n",
       "- **Amazon Web Services**\n",
       "- **Meta**\n",
       "\n",
       "## Open Source Community\n",
       "Hugging Face embraces an open-source model, enabling developers to contribute to state-of-the-art machine learning technologies like **Transformers**, **Diffusers**, and **Tokenizers**.\n",
       "\n",
       "## Company Culture\n",
       "At Hugging Face, the culture is centered around **collaboration**, **innovation**, and a commitment to open-source principles. The community-driven environment encourages knowledge sharing and creativity, allowing team members to grow and contribute in a meaningful way.\n",
       "\n",
       "## Career Opportunities\n",
       "Hugging Face offers a variety of career opportunities in fields such as:\n",
       "- Machine Learning Engineering\n",
       "- Software Development\n",
       "- Product Management\n",
       "- Marketing and Communications\n",
       "\n",
       "The company seeks passionate individuals eager to be part of a thriving community dedicated to shaping the future of artificial intelligence.\n",
       "\n",
       "### Join Us!\n",
       "If you are interested in being part of this innovative team, check out their [career page](https://huggingface.co/careers).\n",
       "\n",
       "## Pricing\n",
       "Hugging Face provides various pricing models suitable for individual developers, small teams, and large enterprises:\n",
       "- **Free Tier:** Access to collaborate on ML models and datasets.\n",
       "- **Pro Account:** Enhance your capabilities for **$9/month**.\n",
       "- **Enterprise Hub:** Starting at **$20/user/month** offering advanced features and dedicated support.\n",
       "\n",
       "## Conclusion\n",
       "Hugging Face stands at the crossroads of technology and community, continually pushing the boundaries of what is possible in AI. Whether you’re a prospective customer, investor, or recruit, the future with Hugging Face is bright, innovative, and collaborative. \n",
       "\n",
       "---\n",
       "\n",
       "### Connect on Social Media\n",
       "- [GitHub](https://github.com/huggingface)\n",
       "- [Twitter](https://twitter.com/huggingface)\n",
       "- [LinkedIn](https://linkedin.com/company/huggingface)\n",
       "- [Discord](https://huggingface.co/discord)\n",
       "\n",
       "For questions or more information, visit our [help center](https://huggingface.co/help). \n",
       "\n",
       "**Start your journey with Hugging Face today!**"
      ],
      "text/plain": [
       "<IPython.core.display.Markdown object>"
      ]
     },
     "metadata": {},
     "output_type": "display_data"
    }
   ],
   "source": [
    "stream_brochure(\"HuggingFace\", \"https://huggingface.co\")"
   ]
  }
 ],
 "metadata": {
  "kernelspec": {
   "display_name": "Python 3 (ipykernel)",
   "language": "python",
   "name": "python3"
  },
  "language_info": {
   "codemirror_mode": {
    "name": "ipython",
    "version": 3
   },
   "file_extension": ".py",
   "mimetype": "text/x-python",
   "name": "python",
   "nbconvert_exporter": "python",
   "pygments_lexer": "ipython3",
   "version": "3.11.10"
  }
 },
 "nbformat": 4,
 "nbformat_minor": 5
}
